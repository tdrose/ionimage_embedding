{
 "cells": [
  {
   "cell_type": "code",
   "execution_count": 1,
   "id": "7e9b27a6-a932-4da8-aa9c-e3ed9f605864",
   "metadata": {
    "tags": []
   },
   "outputs": [
    {
     "name": "stderr",
     "output_type": "stream",
     "text": [
      "/home/trose/.conda/envs/torch-gpuCUDA12/lib/python3.10/site-packages/tqdm/auto.py:21: TqdmWarning: IProgress not found. Please update jupyter and ipywidgets. See https://ipywidgets.readthedocs.io/en/stable/user_install.html\n",
      "  from .autonotebook import tqdm as notebook_tqdm\n"
     ]
    }
   ],
   "source": [
    "from metaspace import SMInstance\n",
    "import numpy as np\n",
    "import pandas as pd\n",
    "import matplotlib.pyplot as plt\n",
    "\n",
    "from deepims_clust import DeepClustering\n",
    "from deepims_clust.utils import size_adaption, size_adaption_symmetric\n",
    "\n",
    "import umap\n",
    "%load_ext autoreload\n",
    "%autoreload 2"
   ]
  },
  {
   "cell_type": "markdown",
   "id": "055f137b-c4ef-4949-9e54-d63c997e08e0",
   "metadata": {},
   "source": [
    "# Datasets"
   ]
  },
  {
   "cell_type": "code",
   "execution_count": 2,
   "id": "97760e44-dd4d-4ab1-96fb-69b626ca7016",
   "metadata": {
    "tags": []
   },
   "outputs": [],
   "source": [
    "evaluation_datasets = [\n",
    "    '2022-12-07_02h13m50s',\n",
    "    '2022-12-07_02h13m20s',\n",
    "    '2022-12-07_02h10m45s',\n",
    "    '2022-12-07_02h09m41s',\n",
    "    '2022-12-07_02h08m52s',\n",
    "    '2022-12-07_01h02m53s',\n",
    "    '2022-12-07_01h01m06s'\n",
    "                  ]"
   ]
  },
  {
   "cell_type": "code",
   "execution_count": 3,
   "id": "0c62b3e7-4f9b-4a37-b62f-442d7ae6cc39",
   "metadata": {
    "tags": []
   },
   "outputs": [
    {
     "name": "stderr",
     "output_type": "stream",
     "text": [
      "100%|████████████████████████████████████████| 293/293 [00:01<00:00, 229.99it/s]\n",
      "100%|████████████████████████████████████████| 287/287 [00:01<00:00, 233.70it/s]\n",
      "100%|████████████████████████████████████████| 251/251 [00:01<00:00, 225.04it/s]\n",
      "100%|████████████████████████████████████████| 313/313 [00:01<00:00, 251.81it/s]\n",
      "100%|████████████████████████████████████████| 311/311 [00:01<00:00, 247.02it/s]\n",
      "100%|████████████████████████████████████████| 237/237 [00:01<00:00, 219.68it/s]\n",
      "100%|████████████████████████████████████████| 241/241 [00:01<00:00, 216.66it/s]\n"
     ]
    }
   ],
   "source": [
    "training_results = {}\n",
    "training_images = {}\n",
    "training_if = {}\n",
    "polarity = '+'\n",
    "\n",
    "sm = SMInstance()\n",
    "\n",
    "for k in evaluation_datasets:\n",
    "    ds = sm.dataset(id=k)\n",
    "    results = ds.results(database=(\"HMDB\", \"v4\"), fdr=0.2).reset_index()\n",
    "    training_results[k] = results\n",
    "    tmp = ds.all_annotation_images(fdr=0.2, database=(\"HMDB\", \"v4\"), only_first_isotope=True)\n",
    "    onsample = dict(zip(results['formula'].str.cat(results['adduct']), ~results['offSample']))\n",
    "    formula = [x.formula+x.adduct for x in tmp if onsample[x.formula+x.adduct]]\n",
    "    tmp = np.array([x._images[0] for x in tmp if onsample[x.formula+x.adduct]])\n",
    "    training_images[k] = tmp\n",
    "    training_if[k] = formula"
   ]
  },
  {
   "cell_type": "markdown",
   "id": "c175261b-e0dd-4289-80ef-68c204ca9b31",
   "metadata": {},
   "source": [
    "# Data preprocessing"
   ]
  },
  {
   "cell_type": "code",
   "execution_count": 4,
   "id": "dad54204-0c54-4770-80fd-3efb0243543a",
   "metadata": {
    "tags": []
   },
   "outputs": [
    {
     "data": {
      "text/plain": [
       "[(245, 74, 84),\n",
       " (221, 88, 88),\n",
       " (194, 41, 78),\n",
       " (237, 56, 85),\n",
       " (276, 71, 82),\n",
       " (201, 35, 55),\n",
       " (186, 60, 44)]"
      ]
     },
     "execution_count": 4,
     "metadata": {},
     "output_type": "execute_result"
    }
   ],
   "source": [
    "[x.shape for x in training_images.values()]"
   ]
  },
  {
   "cell_type": "code",
   "execution_count": 5,
   "id": "c7caab09-3df6-45f7-9355-7475565ea320",
   "metadata": {
    "tags": []
   },
   "outputs": [
    {
     "data": {
      "text/plain": [
       "[(245, 88, 88),\n",
       " (221, 88, 88),\n",
       " (194, 88, 88),\n",
       " (237, 88, 88),\n",
       " (276, 88, 88),\n",
       " (201, 88, 88),\n",
       " (186, 88, 88)]"
      ]
     },
     "execution_count": 5,
     "metadata": {},
     "output_type": "execute_result"
    }
   ],
   "source": [
    "padding_images = size_adaption_symmetric(training_images)\n",
    "[x.shape for x in padding_images.values()]"
   ]
  },
  {
   "cell_type": "code",
   "execution_count": 6,
   "id": "6e839ea2-3877-443b-93b4-af5e07c158f2",
   "metadata": {
    "tags": []
   },
   "outputs": [],
   "source": [
    "tst = set(training_if['2022-12-07_02h13m50s']).intersection(set(training_if['2022-12-07_02h13m20s']), \n",
    "                                                          set(training_if['2022-12-07_02h10m45s']), \n",
    "                                                          set(training_if['2022-12-07_02h09m41s']), \n",
    "                                                          set(training_if['2022-12-07_02h08m52s']), \n",
    "                                                          set(training_if['2022-12-07_01h02m53s']), \n",
    "                                                          set(training_if['2022-12-07_01h01m06s']))"
   ]
  },
  {
   "cell_type": "code",
   "execution_count": 7,
   "id": "8523b8b9-5d29-42b7-a16a-e75c75e9627b",
   "metadata": {
    "tags": []
   },
   "outputs": [
    {
     "name": "stdout",
     "output_type": "stream",
     "text": [
      "Intersection of all datasets: 126\n"
     ]
    }
   ],
   "source": [
    "print(f'Intersection of all datasets: {len(tst)}')"
   ]
  },
  {
   "cell_type": "markdown",
   "id": "68e9bda1-c7f8-49fd-af00-3a7062798664",
   "metadata": {},
   "source": [
    "# Preparing data"
   ]
  },
  {
   "cell_type": "code",
   "execution_count": 8,
   "id": "63b7040e-59c4-4c51-b936-edc3de10fea3",
   "metadata": {
    "tags": []
   },
   "outputs": [],
   "source": [
    "training_dsid = [\n",
    "    '2022-12-07_01h01m06s',\n",
    "    '2022-12-07_02h13m20s',\n",
    "    '2022-12-07_02h10m45s',\n",
    "    '2022-12-07_02h09m41s',\n",
    "    '2022-12-07_02h08m52s',\n",
    "    '2022-12-07_01h02m53s',\n",
    "    '2022-12-07_02h13m50s'\n",
    "                  ]\n",
    "\n",
    "testing_dsid = [\n",
    "    \n",
    "]"
   ]
  },
  {
   "cell_type": "code",
   "execution_count": 9,
   "id": "9e015122-c057-4261-a516-2f08a3e3cb9e",
   "metadata": {
    "tags": []
   },
   "outputs": [],
   "source": [
    "training_data = []\n",
    "training_datasets = [] \n",
    "training_ions = []\n",
    "\n",
    "testing_data = []\n",
    "testing_datasets = [] \n",
    "testing_ions = []\n",
    "\n",
    "\n",
    "for dsid, imgs in padding_images.items():\n",
    "    \n",
    "    if dsid in training_dsid:\n",
    "        training_data.append(imgs)\n",
    "        training_datasets += [dsid] * imgs.shape[0]\n",
    "        training_ions += training_if[dsid]\n",
    "    \n",
    "    testing_data.append(imgs)\n",
    "    testing_datasets += [dsid] * imgs.shape[0]\n",
    "    testing_ions += training_if[dsid]\n",
    "        \n",
    "    \n",
    "training_data = np.concatenate(training_data)\n",
    "training_datasets = np.array(training_datasets)\n",
    "training_ions = np.array(training_ions)\n",
    "\n",
    "testing_data = np.concatenate(testing_data)\n",
    "testing_datasets = np.array(testing_datasets)\n",
    "testing_ions = np.array(testing_ions)"
   ]
  },
  {
   "cell_type": "markdown",
   "id": "e5811f2f-83db-4d12-8caa-5c5858fa44c6",
   "metadata": {},
   "source": [
    "# Activation comparison"
   ]
  },
  {
   "cell_type": "code",
   "execution_count": null,
   "id": "d501eafa-ff83-4283-a20a-aee7ffb3354e",
   "metadata": {},
   "outputs": [],
   "source": []
  },
  {
   "cell_type": "markdown",
   "id": "8a8b8136-1491-4246-8921-13a686ace3cc",
   "metadata": {},
   "source": [
    "## Softmax"
   ]
  },
  {
   "cell_type": "code",
   "execution_count": 13,
   "id": "7e433a03-716f-49ef-ac5c-4c11e55903c6",
   "metadata": {
    "tags": []
   },
   "outputs": [
    {
     "name": "stdout",
     "output_type": "stream",
     "text": [
      "After 16 epochs, the upper bound will be: 69.0.\n",
      "After 16 epochs, the lower bound will be: 61.0.\n"
     ]
    }
   ],
   "source": [
    "model_softmax = DeepClustering(\n",
    "                                images=training_data,\n",
    "                                dataset_labels=training_datasets,\n",
    "                                ion_labels=training_ions,\n",
    "                                num_cluster=8,\n",
    "                                initial_upper=93,\n",
    "                                initial_lower=37,\n",
    "                                upper_iteration=1.5,\n",
    "                                lower_iteration=1.5,\n",
    "                                dataset_specific_percentiles=True,\n",
    "                                random_flip=True,\n",
    "                                knn=True, k=5,\n",
    "                                lr=0.0001, batch_size=128,\n",
    "                                pretraining_epochs=11,\n",
    "                                training_epochs=16,\n",
    "                                cae_encoder_dim=20,\n",
    "                                use_gpu=True,\n",
    "                                activation='softmax',\n",
    "                                random_seed=1225\n",
    "                            )"
   ]
  },
  {
   "cell_type": "code",
   "execution_count": 14,
   "id": "571a9ae7-fcc7-4909-aeba-ccf319ca345a",
   "metadata": {
    "tags": []
   },
   "outputs": [
    {
     "name": "stdout",
     "output_type": "stream",
     "text": [
      "CAE Final conv size = 3136\n",
      "CNNClust final conv dim = 289\n",
      "Pretraining Epoch: 0 Loss: 0.019240\n",
      "Pretraining Epoch: 1 Loss: 0.009439\n",
      "Pretraining Epoch: 2 Loss: 0.008414\n",
      "Pretraining Epoch: 3 Loss: 0.008081\n",
      "Pretraining Epoch: 4 Loss: 0.007900\n",
      "Pretraining Epoch: 5 Loss: 0.007604\n",
      "Pretraining Epoch: 6 Loss: 0.007081\n",
      "Pretraining Epoch: 7 Loss: 0.006920\n",
      "Pretraining Epoch: 8 Loss: 0.006813\n",
      "Pretraining Epoch: 9 Loss: 0.006759\n",
      "Pretraining Epoch: 10 Loss: 0.006730\n",
      "Training Epoch: 0 Loss: 0.023644\n",
      "Training Epoch: 1 Loss: 0.014068\n",
      "Training Epoch: 2 Loss: 0.010097\n",
      "Training Epoch: 3 Loss: 0.008973\n",
      "Training Epoch: 4 Loss: 0.008524\n",
      "Training Epoch: 5 Loss: 0.008159\n",
      "Training Epoch: 6 Loss: 0.008331\n",
      "Training Epoch: 7 Loss: 0.008014\n",
      "Training Epoch: 8 Loss: 0.008014\n",
      "Training Epoch: 9 Loss: 0.008031\n",
      "Training Epoch: 10 Loss: 0.007692\n",
      "Training Epoch: 11 Loss: 0.007723\n",
      "Training Epoch: 12 Loss: 0.007713\n",
      "Training Epoch: 13 Loss: 0.007759\n",
      "Training Epoch: 14 Loss: 0.007913\n",
      "Training Epoch: 15 Loss: 0.007499\n"
     ]
    },
    {
     "data": {
      "text/plain": [
       "0"
      ]
     },
     "execution_count": 14,
     "metadata": {},
     "output_type": "execute_result"
    }
   ],
   "source": [
    "model_softmax.train()"
   ]
  },
  {
   "cell_type": "markdown",
   "id": "859ac52a-3bdd-44e5-9ec1-a97f6f2a3389",
   "metadata": {},
   "source": [
    "## ReLU"
   ]
  },
  {
   "cell_type": "code",
   "execution_count": null,
   "id": "a024d4bf-5ed2-4bc0-af4a-2598f8e840b1",
   "metadata": {},
   "outputs": [],
   "source": []
  },
  {
   "cell_type": "markdown",
   "id": "b440e8c5-9511-461b-b7e0-9e2f4a7fe747",
   "metadata": {},
   "source": [
    "## Sigmoid"
   ]
  },
  {
   "cell_type": "code",
   "execution_count": 11,
   "id": "83e6ae58-b5f1-4a14-8604-fa65d0fe52b9",
   "metadata": {
    "tags": []
   },
   "outputs": [
    {
     "name": "stdout",
     "output_type": "stream",
     "text": [
      "After 16 epochs, the upper bound will be: 69.0.\n",
      "After 16 epochs, the lower bound will be: 61.0.\n"
     ]
    }
   ],
   "source": [
    "model = DeepClustering(\n",
    "                images=training_data,\n",
    "                dataset_labels=training_datasets,\n",
    "                ion_labels=training_ions,\n",
    "                num_cluster=8,\n",
    "                initial_upper=93,\n",
    "                initial_lower=37,\n",
    "                upper_iteration=1.5,\n",
    "                lower_iteration=1.5,\n",
    "                dataset_specific_percentiles=True,\n",
    "                random_flip=True,\n",
    "                knn=True, k=5,\n",
    "                lr=0.0001, batch_size=128,\n",
    "                pretraining_epochs=11,\n",
    "                training_epochs=16,\n",
    "                cae_encoder_dim=20,\n",
    "                use_gpu=True,\n",
    "                random_seed=1225\n",
    "            )"
   ]
  },
  {
   "cell_type": "code",
   "execution_count": null,
   "id": "7f0dd9ef-e231-46ea-8655-ac58c6fb5b6c",
   "metadata": {},
   "outputs": [],
   "source": []
  }
 ],
 "metadata": {
  "kernelspec": {
   "display_name": "torch-gpuCUDA12",
   "language": "python",
   "name": "torch-gpucuda12"
  },
  "language_info": {
   "codemirror_mode": {
    "name": "ipython",
    "version": 3
   },
   "file_extension": ".py",
   "mimetype": "text/x-python",
   "name": "python",
   "nbconvert_exporter": "python",
   "pygments_lexer": "ipython3",
   "version": "3.10.10"
  }
 },
 "nbformat": 4,
 "nbformat_minor": 5
}
